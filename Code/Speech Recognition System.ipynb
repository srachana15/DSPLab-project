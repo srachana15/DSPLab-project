{
 "cells": [
  {
   "cell_type": "markdown",
   "metadata": {},
   "source": [
    "# Speech Recognition System\n",
    "\n",
    "Data: Free Spoken Digit Dataset\n",
    "https://github.com/Jakobovski/free-spoken-digit-dataset\n",
    "\n",
    "    4 speakers\n",
    "    10 digits\n",
    "    50 recordings of each digit --> 2000 total recording\n",
    "    We will train the model on three speakers and test the model on 1 speaker to avoid data leakage\n",
    "    \n",
    "1. Extracting the labels\n",
    "2. Exploratory data analysis \n",
    "3. Extracting audio features"
   ]
  },
  {
   "cell_type": "code",
   "execution_count": 197,
   "metadata": {},
   "outputs": [],
   "source": [
    "# Importing all the required libraries\n",
    "import os\n",
    "import numpy as np\n",
    "import pandas as pd\n",
    "from tqdm import tqdm\n",
    "import librosa\n",
    "import matplotlib.pyplot as plt\n",
    "from scipy.io import wavfile\n",
    "import wave\n",
    "import IPython.display as ipd\n",
    "from python_speech_features import mfcc, logfbank\n",
    "import keras\n",
    "from keras.callbacks import EarlyStopping, ModelCheckpoint\n",
    "from keras.models import Sequential\n",
    "from keras.layers import Input,Dense,Dropout, Flatten, Conv2D, MaxPooling2D, BatchNormalization, LSTM, TimeDistributed\n",
    "from keras.utils.np_utils import to_categorical\n",
    "from sklearn.metrics import classification_report\n",
    "from sklearn.model_selection import train_test_split\n",
    "from sklearn.utils.class_weight import compute_class_weight\n",
    "from sklearn.ensemble import AdaBoostClassifier\n",
    "\n",
    "import warnings\n",
    "warnings.filterwarnings('ignore')"
   ]
  },
  {
   "cell_type": "code",
   "execution_count": 198,
   "metadata": {},
   "outputs": [
    {
     "name": "stdout",
     "output_type": "stream",
     "text": [
      "Requirement already satisfied: SpeechRecognition in /Users/rachanaswamy/opt/anaconda3/lib/python3.7/site-packages (3.8.1)\n",
      "Requirement already satisfied: sounddevice in /Users/rachanaswamy/opt/anaconda3/lib/python3.7/site-packages (0.3.14)\n",
      "Requirement already satisfied: CFFI>=1.0 in /Users/rachanaswamy/opt/anaconda3/lib/python3.7/site-packages (from sounddevice) (1.12.3)\n",
      "Requirement already satisfied: pycparser in /Users/rachanaswamy/opt/anaconda3/lib/python3.7/site-packages (from CFFI>=1.0->sounddevice) (2.19)\n",
      "Requirement already satisfied: soundfile in /Users/rachanaswamy/opt/anaconda3/lib/python3.7/site-packages (0.10.3.post1)\n",
      "Requirement already satisfied: cffi>=1.0 in /Users/rachanaswamy/opt/anaconda3/lib/python3.7/site-packages (from soundfile) (1.12.3)\n",
      "Requirement already satisfied: pycparser in /Users/rachanaswamy/opt/anaconda3/lib/python3.7/site-packages (from cffi>=1.0->soundfile) (2.19)\n"
     ]
    }
   ],
   "source": [
    "!pip install SpeechRecognition\n",
    "import speech_recognition as sr\n",
    "!pip install sounddevice\n",
    "!pip install soundfile\n",
    "import soundfile as sf\n",
    "import sounddevice as sd"
   ]
  },
  {
   "cell_type": "markdown",
   "metadata": {},
   "source": [
    "### Frequently used plot functions"
   ]
  },
  {
   "cell_type": "code",
   "execution_count": 199,
   "metadata": {},
   "outputs": [],
   "source": [
    "\n",
    "def plot_signals(signals):\n",
    "    fig, axes = plt.subplots(nrows=2, ncols=5, sharex=False,\n",
    "                             sharey=True, figsize=(20,5))\n",
    "    fig.suptitle('Signal in time domain', size=16)\n",
    "    i = 0\n",
    "    for x in range(2):\n",
    "        for y in range(5):\n",
    "            axes[x,y].set_title(list(signals.keys())[i])\n",
    "            axes[x,y].plot(list(signals.values())[i])\n",
    "            axes[x,y].get_xaxis().set_visible(False)\n",
    "            axes[x,y].get_yaxis().set_visible(False)\n",
    "            i += 1\n",
    "def plot_fft(fft):\n",
    "    fig, axes = plt.subplots(nrows=2, ncols=5, sharex=False,\n",
    "                             sharey=True, figsize=(20,5))\n",
    "    fig.suptitle('Signal in Frequency domain', size=16)\n",
    "    i = 0\n",
    "    for x in range(2):\n",
    "        for y in range(5):\n",
    "            data = list(fft.values())[i]\n",
    "            Y, freq = data[0], data[1]\n",
    "            axes[x,y].set_title(list(fft.keys())[i])\n",
    "            axes[x,y].plot(freq, Y)\n",
    "            axes[x,y].get_xaxis().set_visible(False)\n",
    "            axes[x,y].get_yaxis().set_visible(False)\n",
    "            i += 1\n",
    "\n",
    "def plot_fbank(fbank):\n",
    "    fig, axes = plt.subplots(nrows=2, ncols=5, sharex=False,\n",
    "                             sharey=True, figsize=(20,5))\n",
    "    fig.suptitle('Filter Bank Coefficients', size=16)\n",
    "    i = 0\n",
    "    for x in range(2):\n",
    "        for y in range(5):\n",
    "            axes[x,y].set_title(list(fbank.keys())[i])\n",
    "            axes[x,y].imshow(list(fbank.values())[i],\n",
    "                    cmap='hot', interpolation='nearest')\n",
    "            axes[x,y].get_xaxis().set_visible(False)\n",
    "            axes[x,y].get_yaxis().set_visible(False)\n",
    "            i += 1\n",
    "\n",
    "def plot_mfccs(mfccs):\n",
    "    fig, axes = plt.subplots(nrows=2, ncols=5, sharex=False,\n",
    "                             sharey=True, figsize=(20,5))\n",
    "    fig.suptitle('Mel Frequency Cepstrum Coefficients', size=16)\n",
    "    i = 0\n",
    "    for x in range(2):\n",
    "        for y in range(5):\n",
    "            axes[x,y].set_title(list(mfccs.keys())[i])\n",
    "            axes[x,y].imshow(list(mfccs.values())[i],\n",
    "                    cmap='hot', interpolation='nearest')\n",
    "            axes[x,y].get_xaxis().set_visible(False)\n",
    "            axes[x,y].get_yaxis().set_visible(False)\n",
    "            i += 1"
   ]
  },
  {
   "cell_type": "markdown",
   "metadata": {},
   "source": [
    "### Dataset analysis"
   ]
  },
  {
   "cell_type": "code",
   "execution_count": 200,
   "metadata": {},
   "outputs": [
    {
     "data": {
      "text/html": [
       "<div>\n",
       "<style scoped>\n",
       "    .dataframe tbody tr th:only-of-type {\n",
       "        vertical-align: middle;\n",
       "    }\n",
       "\n",
       "    .dataframe tbody tr th {\n",
       "        vertical-align: top;\n",
       "    }\n",
       "\n",
       "    .dataframe thead th {\n",
       "        text-align: right;\n",
       "    }\n",
       "</style>\n",
       "<table border=\"1\" class=\"dataframe\">\n",
       "  <thead>\n",
       "    <tr style=\"text-align: right;\">\n",
       "      <th></th>\n",
       "      <th>Digit</th>\n",
       "    </tr>\n",
       "  </thead>\n",
       "  <tbody>\n",
       "    <tr>\n",
       "      <td>5_nicolas_9.wav</td>\n",
       "      <td>5</td>\n",
       "    </tr>\n",
       "    <tr>\n",
       "      <td>3_yweweler_14.wav</td>\n",
       "      <td>3</td>\n",
       "    </tr>\n",
       "    <tr>\n",
       "      <td>4_yweweler_38.wav</td>\n",
       "      <td>4</td>\n",
       "    </tr>\n",
       "    <tr>\n",
       "      <td>3_yweweler_28.wav</td>\n",
       "      <td>3</td>\n",
       "    </tr>\n",
       "    <tr>\n",
       "      <td>4_yweweler_10.wav</td>\n",
       "      <td>4</td>\n",
       "    </tr>\n",
       "    <tr>\n",
       "      <td>8_rach_5.wav</td>\n",
       "      <td>8</td>\n",
       "    </tr>\n",
       "  </tbody>\n",
       "</table>\n",
       "</div>"
      ],
      "text/plain": [
       "                  Digit\n",
       "5_nicolas_9.wav       5\n",
       "3_yweweler_14.wav     3\n",
       "4_yweweler_38.wav     4\n",
       "3_yweweler_28.wav     3\n",
       "4_yweweler_10.wav     4\n",
       "8_rach_5.wav          8"
      ]
     },
     "execution_count": 200,
     "metadata": {},
     "output_type": "execute_result"
    }
   ],
   "source": [
    "#Extracting labels\n",
    "\n",
    "digit = []\n",
    "labels=os.listdir('../Data/')\n",
    "for label in labels:\n",
    "    digit.append(label.split('_')[0])\n",
    "df = pd.DataFrame(digit,labels,columns=['Digit'])\n",
    "df.head(6)"
   ]
  },
  {
   "cell_type": "code",
   "execution_count": 201,
   "metadata": {},
   "outputs": [
    {
     "data": {
      "text/html": [
       "<div>\n",
       "<style scoped>\n",
       "    .dataframe tbody tr th:only-of-type {\n",
       "        vertical-align: middle;\n",
       "    }\n",
       "\n",
       "    .dataframe tbody tr th {\n",
       "        vertical-align: top;\n",
       "    }\n",
       "\n",
       "    .dataframe thead th {\n",
       "        text-align: right;\n",
       "    }\n",
       "</style>\n",
       "<table border=\"1\" class=\"dataframe\">\n",
       "  <thead>\n",
       "    <tr style=\"text-align: right;\">\n",
       "      <th></th>\n",
       "      <th>Digit</th>\n",
       "      <th>length (sec)</th>\n",
       "      <th>speaker</th>\n",
       "    </tr>\n",
       "  </thead>\n",
       "  <tbody>\n",
       "    <tr>\n",
       "      <td>5_nicolas_9.wav</td>\n",
       "      <td>5</td>\n",
       "      <td>0.337375</td>\n",
       "      <td>nicolas</td>\n",
       "    </tr>\n",
       "    <tr>\n",
       "      <td>3_yweweler_14.wav</td>\n",
       "      <td>3</td>\n",
       "      <td>0.305750</td>\n",
       "      <td>yweweler</td>\n",
       "    </tr>\n",
       "    <tr>\n",
       "      <td>4_yweweler_38.wav</td>\n",
       "      <td>4</td>\n",
       "      <td>0.383125</td>\n",
       "      <td>yweweler</td>\n",
       "    </tr>\n",
       "    <tr>\n",
       "      <td>3_yweweler_28.wav</td>\n",
       "      <td>3</td>\n",
       "      <td>0.284000</td>\n",
       "      <td>yweweler</td>\n",
       "    </tr>\n",
       "    <tr>\n",
       "      <td>4_yweweler_10.wav</td>\n",
       "      <td>4</td>\n",
       "      <td>0.362250</td>\n",
       "      <td>yweweler</td>\n",
       "    </tr>\n",
       "    <tr>\n",
       "      <td>8_rach_5.wav</td>\n",
       "      <td>8</td>\n",
       "      <td>2.000000</td>\n",
       "      <td>rach</td>\n",
       "    </tr>\n",
       "  </tbody>\n",
       "</table>\n",
       "</div>"
      ],
      "text/plain": [
       "                  Digit  length (sec)   speaker\n",
       "5_nicolas_9.wav       5      0.337375   nicolas\n",
       "3_yweweler_14.wav     3      0.305750  yweweler\n",
       "4_yweweler_38.wav     4      0.383125  yweweler\n",
       "3_yweweler_28.wav     3      0.284000  yweweler\n",
       "4_yweweler_10.wav     4      0.362250  yweweler\n",
       "8_rach_5.wav          8      2.000000      rach"
      ]
     },
     "execution_count": 201,
     "metadata": {},
     "output_type": "execute_result"
    }
   ],
   "source": [
    "#Reading the audio file and calculating the length\n",
    "for f in df.index:\n",
    "    rate, signal = wavfile.read('../data/'+f)\n",
    "    df.at[f,'length (sec)'] = signal.shape[0]/rate\n",
    "    df.at[f,'speaker'] = f.split('_')[1]\n",
    "df.head(6)"
   ]
  },
  {
   "cell_type": "code",
   "execution_count": 202,
   "metadata": {},
   "outputs": [
    {
     "data": {
      "text/html": [
       "<div>\n",
       "<style scoped>\n",
       "    .dataframe tbody tr th:only-of-type {\n",
       "        vertical-align: middle;\n",
       "    }\n",
       "\n",
       "    .dataframe tbody tr th {\n",
       "        vertical-align: top;\n",
       "    }\n",
       "\n",
       "    .dataframe thead th {\n",
       "        text-align: right;\n",
       "    }\n",
       "</style>\n",
       "<table border=\"1\" class=\"dataframe\">\n",
       "  <thead>\n",
       "    <tr style=\"text-align: right;\">\n",
       "      <th></th>\n",
       "      <th>length (sec)</th>\n",
       "    </tr>\n",
       "    <tr>\n",
       "      <th>Digit</th>\n",
       "      <th></th>\n",
       "    </tr>\n",
       "  </thead>\n",
       "  <tbody>\n",
       "    <tr>\n",
       "      <td>0</td>\n",
       "      <td>210</td>\n",
       "    </tr>\n",
       "    <tr>\n",
       "      <td>1</td>\n",
       "      <td>210</td>\n",
       "    </tr>\n",
       "    <tr>\n",
       "      <td>2</td>\n",
       "      <td>210</td>\n",
       "    </tr>\n",
       "    <tr>\n",
       "      <td>3</td>\n",
       "      <td>210</td>\n",
       "    </tr>\n",
       "    <tr>\n",
       "      <td>4</td>\n",
       "      <td>210</td>\n",
       "    </tr>\n",
       "    <tr>\n",
       "      <td>5</td>\n",
       "      <td>210</td>\n",
       "    </tr>\n",
       "    <tr>\n",
       "      <td>6</td>\n",
       "      <td>210</td>\n",
       "    </tr>\n",
       "    <tr>\n",
       "      <td>7</td>\n",
       "      <td>210</td>\n",
       "    </tr>\n",
       "    <tr>\n",
       "      <td>8</td>\n",
       "      <td>210</td>\n",
       "    </tr>\n",
       "    <tr>\n",
       "      <td>9</td>\n",
       "      <td>210</td>\n",
       "    </tr>\n",
       "  </tbody>\n",
       "</table>\n",
       "</div>"
      ],
      "text/plain": [
       "       length (sec)\n",
       "Digit              \n",
       "0               210\n",
       "1               210\n",
       "2               210\n",
       "3               210\n",
       "4               210\n",
       "5               210\n",
       "6               210\n",
       "7               210\n",
       "8               210\n",
       "9               210"
      ]
     },
     "execution_count": 202,
     "metadata": {},
     "output_type": "execute_result"
    }
   ],
   "source": [
    "#Finding the number of recordings for each digit\n",
    "classes = pd.DataFrame(df.groupby('Digit').count())\n",
    "classes.rename(columns = {'length (sec)': 'count'})\n",
    "classes.drop('speaker',axis=1,inplace = True)\n",
    "classes"
   ]
  },
  {
   "cell_type": "code",
   "execution_count": 203,
   "metadata": {},
   "outputs": [
    {
     "data": {
      "text/html": [
       "<div>\n",
       "<style scoped>\n",
       "    .dataframe tbody tr th:only-of-type {\n",
       "        vertical-align: middle;\n",
       "    }\n",
       "\n",
       "    .dataframe tbody tr th {\n",
       "        vertical-align: top;\n",
       "    }\n",
       "\n",
       "    .dataframe thead th {\n",
       "        text-align: right;\n",
       "    }\n",
       "</style>\n",
       "<table border=\"1\" class=\"dataframe\">\n",
       "  <thead>\n",
       "    <tr style=\"text-align: right;\">\n",
       "      <th></th>\n",
       "      <th>count</th>\n",
       "    </tr>\n",
       "    <tr>\n",
       "      <th>speaker</th>\n",
       "      <th></th>\n",
       "    </tr>\n",
       "  </thead>\n",
       "  <tbody>\n",
       "    <tr>\n",
       "      <td>jackson</td>\n",
       "      <td>500</td>\n",
       "    </tr>\n",
       "    <tr>\n",
       "      <td>nicolas</td>\n",
       "      <td>500</td>\n",
       "    </tr>\n",
       "    <tr>\n",
       "      <td>rach</td>\n",
       "      <td>100</td>\n",
       "    </tr>\n",
       "    <tr>\n",
       "      <td>theo</td>\n",
       "      <td>500</td>\n",
       "    </tr>\n",
       "    <tr>\n",
       "      <td>yweweler</td>\n",
       "      <td>500</td>\n",
       "    </tr>\n",
       "  </tbody>\n",
       "</table>\n",
       "</div>"
      ],
      "text/plain": [
       "          count\n",
       "speaker        \n",
       "jackson     500\n",
       "nicolas     500\n",
       "rach        100\n",
       "theo        500\n",
       "yweweler    500"
      ]
     },
     "execution_count": 203,
     "metadata": {},
     "output_type": "execute_result"
    }
   ],
   "source": [
    "#Finding the number of speakers\n",
    "classes1 = pd.DataFrame(df.groupby('speaker').count())\n",
    "classes1.drop('Digit',axis=1,inplace = True)\n",
    "classes1\n",
    "classes1.rename(columns = {'length (sec)': 'count'})"
   ]
  },
  {
   "cell_type": "code",
   "execution_count": 204,
   "metadata": {},
   "outputs": [
    {
     "data": {
      "text/plain": [
       "<matplotlib.axes._subplots.AxesSubplot at 0x1c654cad90>"
      ]
     },
     "execution_count": 204,
     "metadata": {},
     "output_type": "execute_result"
    },
    {
     "data": {
      "image/png": "[encoded data removed]",
      "text/plain": [
       "<Figure size 432x288 with 1 Axes>"
      ]
     },
     "metadata": {
      "needs_background": "light"
     },
     "output_type": "display_data"
    }
   ],
   "source": [
    "#Duration of the recordings\n",
    "\n",
    "df['length (sec)'].hist()\n",
    "\n",
    "# Note: Most of the recordings are less than half a second"
   ]
  },
  {
   "cell_type": "code",
   "execution_count": 205,
   "metadata": {},
   "outputs": [
    {
     "data": {
      "text/plain": [
       "<matplotlib.axes._subplots.AxesSubplot at 0x1c5ec32e10>"
      ]
     },
     "execution_count": 205,
     "metadata": {},
     "output_type": "execute_result"
    },
    {
     "data": {
      "image/png": "[encoded data removed]",
      "text/plain": [
       "<Figure size 432x288 with 1 Axes>"
      ]
     },
     "metadata": {
      "needs_background": "light"
     },
     "output_type": "display_data"
    }
   ],
   "source": [
    "classes.plot.bar(rot = 0)"
   ]
  },
  {
   "cell_type": "code",
   "execution_count": 206,
   "metadata": {},
   "outputs": [
    {
     "data": {
      "text/plain": [
       "Digit\n",
       "0    0.543734\n",
       "1    0.450204\n",
       "2    0.435789\n",
       "3    0.428216\n",
       "4    0.442020\n",
       "5    0.489369\n",
       "6    0.499733\n",
       "7    0.488319\n",
       "8    0.448235\n",
       "9    0.556947\n",
       "Name: length (sec), dtype: float64"
      ]
     },
     "execution_count": 206,
     "metadata": {},
     "output_type": "execute_result"
    }
   ],
   "source": [
    "class_dist = df.groupby(['Digit'])['length (sec)'].mean()\n",
    "class_dist"
   ]
  },
  {
   "cell_type": "code",
   "execution_count": 207,
   "metadata": {},
   "outputs": [
    {
     "data": {
      "image/png": "[encoded data removed]",
      "text/plain": [
       "<Figure size 432x288 with 1 Axes>"
      ]
     },
     "metadata": {},
     "output_type": "display_data"
    }
   ],
   "source": [
    "fig, ax = plt.subplots()\n",
    "ax.set_title('Class Distribution', y = 1.08)\n",
    "ax.pie(class_dist, labels=class_dist.index, autopct='%1.1f%%', shadow = False, startangle=90)\n",
    "ax.axis('equal')\n",
    "plt.show()\n"
   ]
  },
  {
   "cell_type": "markdown",
   "metadata": {},
   "source": [
    "### Data exploration"
   ]
  },
  {
   "cell_type": "code",
   "execution_count": 208,
   "metadata": {},
   "outputs": [
    {
     "data": {
      "text/html": [
       "<div>\n",
       "<style scoped>\n",
       "    .dataframe tbody tr th:only-of-type {\n",
       "        vertical-align: middle;\n",
       "    }\n",
       "\n",
       "    .dataframe tbody tr th {\n",
       "        vertical-align: top;\n",
       "    }\n",
       "\n",
       "    .dataframe thead th {\n",
       "        text-align: right;\n",
       "    }\n",
       "</style>\n",
       "<table border=\"1\" class=\"dataframe\">\n",
       "  <thead>\n",
       "    <tr style=\"text-align: right;\">\n",
       "      <th></th>\n",
       "      <th>index</th>\n",
       "      <th>Digit</th>\n",
       "      <th>length (sec)</th>\n",
       "      <th>speaker</th>\n",
       "    </tr>\n",
       "  </thead>\n",
       "  <tbody>\n",
       "    <tr>\n",
       "      <td>0</td>\n",
       "      <td>5_nicolas_9.wav</td>\n",
       "      <td>5</td>\n",
       "      <td>0.337375</td>\n",
       "      <td>nicolas</td>\n",
       "    </tr>\n",
       "    <tr>\n",
       "      <td>1</td>\n",
       "      <td>3_yweweler_14.wav</td>\n",
       "      <td>3</td>\n",
       "      <td>0.305750</td>\n",
       "      <td>yweweler</td>\n",
       "    </tr>\n",
       "    <tr>\n",
       "      <td>2</td>\n",
       "      <td>4_yweweler_38.wav</td>\n",
       "      <td>4</td>\n",
       "      <td>0.383125</td>\n",
       "      <td>yweweler</td>\n",
       "    </tr>\n",
       "    <tr>\n",
       "      <td>3</td>\n",
       "      <td>3_yweweler_28.wav</td>\n",
       "      <td>3</td>\n",
       "      <td>0.284000</td>\n",
       "      <td>yweweler</td>\n",
       "    </tr>\n",
       "    <tr>\n",
       "      <td>4</td>\n",
       "      <td>4_yweweler_10.wav</td>\n",
       "      <td>4</td>\n",
       "      <td>0.362250</td>\n",
       "      <td>yweweler</td>\n",
       "    </tr>\n",
       "    <tr>\n",
       "      <td>...</td>\n",
       "      <td>...</td>\n",
       "      <td>...</td>\n",
       "      <td>...</td>\n",
       "      <td>...</td>\n",
       "    </tr>\n",
       "    <tr>\n",
       "      <td>2095</td>\n",
       "      <td>7_theo_47.wav</td>\n",
       "      <td>7</td>\n",
       "      <td>0.390250</td>\n",
       "      <td>theo</td>\n",
       "    </tr>\n",
       "    <tr>\n",
       "      <td>2096</td>\n",
       "      <td>4_yweweler_21.wav</td>\n",
       "      <td>4</td>\n",
       "      <td>0.342500</td>\n",
       "      <td>yweweler</td>\n",
       "    </tr>\n",
       "    <tr>\n",
       "      <td>2097</td>\n",
       "      <td>5_nicolas_4.wav</td>\n",
       "      <td>5</td>\n",
       "      <td>0.349750</td>\n",
       "      <td>nicolas</td>\n",
       "    </tr>\n",
       "    <tr>\n",
       "      <td>2098</td>\n",
       "      <td>3_yweweler_19.wav</td>\n",
       "      <td>3</td>\n",
       "      <td>0.395625</td>\n",
       "      <td>yweweler</td>\n",
       "    </tr>\n",
       "    <tr>\n",
       "      <td>2099</td>\n",
       "      <td>4_yweweler_35.wav</td>\n",
       "      <td>4</td>\n",
       "      <td>0.482125</td>\n",
       "      <td>yweweler</td>\n",
       "    </tr>\n",
       "  </tbody>\n",
       "</table>\n",
       "<p>2100 rows × 4 columns</p>\n",
       "</div>"
      ],
      "text/plain": [
       "                  index Digit  length (sec)   speaker\n",
       "0       5_nicolas_9.wav     5      0.337375   nicolas\n",
       "1     3_yweweler_14.wav     3      0.305750  yweweler\n",
       "2     4_yweweler_38.wav     4      0.383125  yweweler\n",
       "3     3_yweweler_28.wav     3      0.284000  yweweler\n",
       "4     4_yweweler_10.wav     4      0.362250  yweweler\n",
       "...                 ...   ...           ...       ...\n",
       "2095      7_theo_47.wav     7      0.390250      theo\n",
       "2096  4_yweweler_21.wav     4      0.342500  yweweler\n",
       "2097    5_nicolas_4.wav     5      0.349750   nicolas\n",
       "2098  3_yweweler_19.wav     3      0.395625  yweweler\n",
       "2099  4_yweweler_35.wav     4      0.482125  yweweler\n",
       "\n",
       "[2100 rows x 4 columns]"
      ]
     },
     "execution_count": 208,
     "metadata": {},
     "output_type": "execute_result"
    }
   ],
   "source": [
    "#df.drop('level_0',axis=1,inplace=True)\n",
    "df1 = df\n",
    "df1 = df1.reset_index()\n",
    "df1"
   ]
  },
  {
   "cell_type": "markdown",
   "metadata": {},
   "source": [
    "### Function: Calculation fft "
   ]
  },
  {
   "cell_type": "code",
   "execution_count": 209,
   "metadata": {},
   "outputs": [],
   "source": [
    "def calculate_fft(y, rate):\n",
    "    n = len(y)\n",
    "    freq = np.fft.rfftfreq(n, d=1/rate)\n",
    "    mag_y = abs(np.fft.rfft(y)/n)  #normalise value by dividing by length\n",
    "    return mag_y, freq\n",
    "\n",
    "def getmfcc(y, max_pad_len=40):\n",
    "    mfcc = librosa.feature.mfcc(y, sr=8000 ,n_mfcc=13)\n",
    "    pad_width = abs(max_pad_len - mfcc.shape[1])\n",
    "    mfcc = np.pad(mfcc, pad_width=((0, 0), (0, pad_width)), mode='constant')\n",
    "    return mfcc\n",
    "\n",
    "# remove dead spots in the data\n",
    "def envelope(y, rate, threshold):\n",
    "    mask = []\n",
    "    y = pd.Series(y).apply(np.abs)\n",
    "    ymean = y.rolling(window=int(rate/10), min_periods = 1, center = True).mean()\n",
    "    for mean in ymean:\n",
    "        if mean>threshold:\n",
    "            mask.append(True)\n",
    "        else:\n",
    "            mask.append(False)\n",
    "    return mask"
   ]
  },
  {
   "cell_type": "code",
   "execution_count": 210,
   "metadata": {},
   "outputs": [
    {
     "name": "stdout",
     "output_type": "stream",
     "text": [
      "0_theo_46.wav\n",
      "1_nicolas_15.wav\n",
      "2_jackson_20.wav\n",
      "3_yweweler_14.wav\n",
      "4_yweweler_38.wav\n",
      "5_nicolas_9.wav\n",
      "6_jackson_41.wav\n",
      "7_yweweler_41.wav\n",
      "8_rach_5.wav\n",
      "9_jackson_43.wav\n"
     ]
    }
   ],
   "source": [
    "signals = {}\n",
    "fft = {}\n",
    "fbank = {}\n",
    "mfccs = {}\n",
    "\n",
    "for c in classes.index:\n",
    "    wav_file = df1[df1.Digit == c].iloc[0,0]\n",
    "    print(wav_file)\n",
    "    signal, rate = librosa.load('../Data/'+wav_file,sr = None)\n",
    "    mask = envelope(signal, rate, 0.001)\n",
    "    signal = signal[mask]\n",
    "    signals[c] = signal\n",
    "    fft[c] = calculate_fft(signal, rate)\n",
    "    \n",
    "    fbank[c] = logfbank(signal, rate, nfilt=26).T\n",
    "    #mfccs[c] = mfcc(signal,rate,numcep=13,nfilt=26).T\n",
    "    mfccs[c] = getmfcc(signal)\n",
    "    #mfccs[c] = librosa.feature.mfcc(signal, sr=8000 ,n_mfcc=13)"
   ]
  },
  {
   "cell_type": "code",
   "execution_count": 211,
   "metadata": {},
   "outputs": [
    {
     "data": {
      "image/png": "[encoded data removed]",
      "text/plain": [
       "<Figure size 1440x360 with 10 Axes>"
      ]
     },
     "metadata": {
      "needs_background": "light"
     },
     "output_type": "display_data"
    },
    {
     "data": {
      "image/png": "[encoded data removed]",
      "text/plain": [
       "<Figure size 1440x360 with 10 Axes>"
      ]
     },
     "metadata": {
      "needs_background": "light"
     },
     "output_type": "display_data"
    },
    {
     "data": {
      "image/png": "[encoded data removed]",
      "text/plain": [
       "<Figure size 1440x360 with 10 Axes>"
      ]
     },
     "metadata": {
      "needs_background": "light"
     },
     "output_type": "display_data"
    },
    {
     "data": {
      "image/png": "[encoded data removed]",
      "text/plain": [
       "<Figure size 1440x360 with 10 Axes>"
      ]
     },
     "metadata": {
      "needs_background": "light"
     },
     "output_type": "display_data"
    },
    {
     "data": {
      "text/plain": [
       "<Figure size 432x288 with 0 Axes>"
      ]
     },
     "metadata": {},
     "output_type": "display_data"
    }
   ],
   "source": [
    "plot_signals(signals)\n",
    "plt.show()\n",
    "    \n",
    "plot_fft(fft)\n",
    "plt.show()\n",
    "    \n",
    "plot_fbank(fbank)\n",
    "plt.show()\n",
    "    \n",
    "plot_mfccs(mfccs)\n",
    "plt.show()\n",
    "\n",
    "plt.savefig('plot.pdf')"
   ]
  },
  {
   "cell_type": "markdown",
   "metadata": {},
   "source": [
    "### Splitting dataset and finding mfccs\n",
    "1. extract features and label for all wav files\n",
    "2. design a multilayer perceptron using cnn"
   ]
  },
  {
   "cell_type": "code",
   "execution_count": 212,
   "metadata": {},
   "outputs": [],
   "source": [
    "class Config:\n",
    "    def  __init__(self, mode='conv', nfilt=26, nfeat=13, nfft=512, rate = 8000, n_classes = 10, learning_rate = 0.0001, max_epochs=50):\n",
    "        self.mode = mode\n",
    "        self.nfilt = nfilt\n",
    "        self.nfeat = nfeat\n",
    "        self.rate = rate\n",
    "        self.step = int(rate/10)\n",
    "        self.n_classes = n_classes\n",
    "        self.learning_rate = learning_rate\n",
    "        self.max_epochs = max_epochs\n"
   ]
  },
  {
   "cell_type": "code",
   "execution_count": 213,
   "metadata": {},
   "outputs": [
    {
     "data": {
      "text/html": [
       "<div>\n",
       "<style scoped>\n",
       "    .dataframe tbody tr th:only-of-type {\n",
       "        vertical-align: middle;\n",
       "    }\n",
       "\n",
       "    .dataframe tbody tr th {\n",
       "        vertical-align: top;\n",
       "    }\n",
       "\n",
       "    .dataframe thead th {\n",
       "        text-align: right;\n",
       "    }\n",
       "</style>\n",
       "<table border=\"1\" class=\"dataframe\">\n",
       "  <thead>\n",
       "    <tr style=\"text-align: right;\">\n",
       "      <th></th>\n",
       "      <th>Digit</th>\n",
       "      <th>length (sec)</th>\n",
       "      <th>speaker</th>\n",
       "    </tr>\n",
       "  </thead>\n",
       "  <tbody>\n",
       "    <tr>\n",
       "      <td>3_yweweler_14.wav</td>\n",
       "      <td>3</td>\n",
       "      <td>0.305750</td>\n",
       "      <td>yweweler</td>\n",
       "    </tr>\n",
       "    <tr>\n",
       "      <td>4_yweweler_38.wav</td>\n",
       "      <td>4</td>\n",
       "      <td>0.383125</td>\n",
       "      <td>yweweler</td>\n",
       "    </tr>\n",
       "    <tr>\n",
       "      <td>3_yweweler_28.wav</td>\n",
       "      <td>3</td>\n",
       "      <td>0.284000</td>\n",
       "      <td>yweweler</td>\n",
       "    </tr>\n",
       "    <tr>\n",
       "      <td>4_yweweler_10.wav</td>\n",
       "      <td>4</td>\n",
       "      <td>0.362250</td>\n",
       "      <td>yweweler</td>\n",
       "    </tr>\n",
       "    <tr>\n",
       "      <td>8_rach_5.wav</td>\n",
       "      <td>8</td>\n",
       "      <td>2.000000</td>\n",
       "      <td>rach</td>\n",
       "    </tr>\n",
       "    <tr>\n",
       "      <td>...</td>\n",
       "      <td>...</td>\n",
       "      <td>...</td>\n",
       "      <td>...</td>\n",
       "    </tr>\n",
       "    <tr>\n",
       "      <td>3_yweweler_31.wav</td>\n",
       "      <td>3</td>\n",
       "      <td>0.212125</td>\n",
       "      <td>yweweler</td>\n",
       "    </tr>\n",
       "    <tr>\n",
       "      <td>7_theo_47.wav</td>\n",
       "      <td>7</td>\n",
       "      <td>0.390250</td>\n",
       "      <td>theo</td>\n",
       "    </tr>\n",
       "    <tr>\n",
       "      <td>4_yweweler_21.wav</td>\n",
       "      <td>4</td>\n",
       "      <td>0.342500</td>\n",
       "      <td>yweweler</td>\n",
       "    </tr>\n",
       "    <tr>\n",
       "      <td>3_yweweler_19.wav</td>\n",
       "      <td>3</td>\n",
       "      <td>0.395625</td>\n",
       "      <td>yweweler</td>\n",
       "    </tr>\n",
       "    <tr>\n",
       "      <td>4_yweweler_35.wav</td>\n",
       "      <td>4</td>\n",
       "      <td>0.482125</td>\n",
       "      <td>yweweler</td>\n",
       "    </tr>\n",
       "  </tbody>\n",
       "</table>\n",
       "<p>1600 rows × 3 columns</p>\n",
       "</div>"
      ],
      "text/plain": [
       "                  Digit  length (sec)   speaker\n",
       "3_yweweler_14.wav     3      0.305750  yweweler\n",
       "4_yweweler_38.wav     4      0.383125  yweweler\n",
       "3_yweweler_28.wav     3      0.284000  yweweler\n",
       "4_yweweler_10.wav     4      0.362250  yweweler\n",
       "8_rach_5.wav          8      2.000000      rach\n",
       "...                 ...           ...       ...\n",
       "3_yweweler_31.wav     3      0.212125  yweweler\n",
       "7_theo_47.wav         7      0.390250      theo\n",
       "4_yweweler_21.wav     4      0.342500  yweweler\n",
       "3_yweweler_19.wav     3      0.395625  yweweler\n",
       "4_yweweler_35.wav     4      0.482125  yweweler\n",
       "\n",
       "[1600 rows x 3 columns]"
      ]
     },
     "execution_count": 213,
     "metadata": {},
     "output_type": "execute_result"
    }
   ],
   "source": [
    "# creating a fuction to extract labels and data \n",
    "# and split it into training and test datasets\n",
    "df1_test = df.loc[df.speaker=='nicolas']\n",
    "df2_train = df.loc[df.speaker!='nicolas']\n",
    "df2_train "
   ]
  },
  {
   "cell_type": "code",
   "execution_count": 214,
   "metadata": {},
   "outputs": [],
   "source": [
    "def getmfcc(y, max_pad_len=40):\n",
    "    mask = envelope(y, 8000, 0.001)\n",
    "    y = y[mask]\n",
    "    mfcc = librosa.feature.mfcc(y, sr=8000 ,n_mfcc=13)\n",
    "    pad_width = max_pad_len - mfcc.shape[1]\n",
    "    if pad_width>=0:\n",
    "        mfcc = np.pad(mfcc, pad_width=((0, 0), (0, pad_width)), mode='constant')\n",
    "    else:\n",
    "        mfcc = mfcc[:,0:40]\n",
    "    return mfcc\n",
    "\n",
    "def get_data(x):\n",
    "    y = []\n",
    "    mfccs = []\n",
    "    for c in x.index:\n",
    "        signal, rate = librosa.load('../Data/'+c,sr = None)\n",
    "        y.append(x.Digit[c])\n",
    "        mfccs.append(getmfcc(signal))\n",
    "    return np.asarray(mfccs), to_categorical(y)"
   ]
  },
  {
   "cell_type": "code",
   "execution_count": 215,
   "metadata": {},
   "outputs": [],
   "source": [
    "mfccs_test, y_ts = get_data(df1_test)\n",
    "X_ts = mfccs_test\n",
    "X_ts = X_ts.reshape((X_ts.shape[0], X_ts.shape[1],X_ts.shape[2] , 1))"
   ]
  },
  {
   "cell_type": "code",
   "execution_count": 216,
   "metadata": {},
   "outputs": [],
   "source": [
    "mfccs_train, y_tr = get_data(df2_train)\n",
    "X_tr = mfccs_train\n",
    "X_tr = X_tr.reshape((X_tr.shape[0], X_tr.shape[1],X_tr.shape[2] , 1))"
   ]
  },
  {
   "cell_type": "code",
   "execution_count": 217,
   "metadata": {},
   "outputs": [
    {
     "data": {
      "text/plain": [
       "(500, 13, 40)"
      ]
     },
     "execution_count": 217,
     "metadata": {},
     "output_type": "execute_result"
    }
   ],
   "source": [
    "mfccs_test.shape # mfcc of each file has the shape (13x20)--> so shape of final 3d array is 500x13x20"
   ]
  },
  {
   "cell_type": "code",
   "execution_count": 218,
   "metadata": {},
   "outputs": [
    {
     "name": "stdout",
     "output_type": "stream",
     "text": [
      "yts (500, 10)\n",
      "xts (500, 13, 40, 1)\n"
     ]
    }
   ],
   "source": [
    "y_ts #label is converted to binary form --> Hence, shape = 500,10 --> 500 data files and 10 digits\n",
    "\n",
    "print('yts',y_ts.shape)\n",
    "print('xts',X_ts.shape)"
   ]
  },
  {
   "cell_type": "code",
   "execution_count": 219,
   "metadata": {},
   "outputs": [
    {
     "data": {
      "text/plain": [
       "(1600, 13, 40)"
      ]
     },
     "execution_count": 219,
     "metadata": {},
     "output_type": "execute_result"
    }
   ],
   "source": [
    "mfccs_train.shape"
   ]
  },
  {
   "cell_type": "code",
   "execution_count": 220,
   "metadata": {},
   "outputs": [
    {
     "name": "stdout",
     "output_type": "stream",
     "text": [
      "ytr (1600, 10)\n",
      "xtr (1600, 13, 40, 1)\n"
     ]
    }
   ],
   "source": [
    "print('ytr',y_tr.shape)\n",
    "print('xtr',X_tr.shape)"
   ]
  },
  {
   "cell_type": "markdown",
   "metadata": {},
   "source": [
    "### Modeling"
   ]
  },
  {
   "cell_type": "code",
   "execution_count": 221,
   "metadata": {},
   "outputs": [],
   "source": [
    "dimension_1 = X_tr.shape[1]\n",
    "dimension_2 = X_tr.shape[2]\n",
    "input_shape = (dimension_1, dimension_2, 1)"
   ]
  },
  {
   "cell_type": "code",
   "execution_count": 222,
   "metadata": {},
   "outputs": [],
   "source": [
    "import os\n",
    "import numpy as np\n",
    "import librosa\n",
    "import matplotlib.pyplot as plt\n",
    "import IPython.display as ipd\n",
    "import keras\n",
    "from keras.callbacks import EarlyStopping, ModelCheckpoint\n",
    "from keras.models import Sequential\n",
    "from keras.layers import Dense, Dropout, Flatten, Conv2D, MaxPooling2D, BatchNormalization\n",
    "from keras.utils.np_utils import to_categorical\n",
    "from sklearn.metrics import classification_report\n",
    "from sklearn.model_selection import train_test_split\n",
    "\n",
    "\n",
    "def cnn_model(input_shape, num_classes):\n",
    "# Defining a sequential model    \n",
    "    model = Sequential()\n",
    "\n",
    "# Feature Learning Layers  -- Convolution - RELU 1st Block, Minimum of three such blocks is what I go with a rule of thumb\n",
    "    \n",
    "    # This is the input layer, so input shape has to be given, this layer uses 32 feature maps of size 2x2\n",
    "    model.add(Conv2D(32, kernel_size=(2, 2), activation='relu', input_shape=input_shape))\n",
    "    model.add(BatchNormalization())\n",
    "    \n",
    "    # Convolution - RELU 2nd Block. This layer uses 64 feature maps of size 3x3\n",
    "    model.add(Conv2D(64, kernel_size=(3, 3), activation='relu'))\n",
    "    model.add(BatchNormalization())\n",
    "\n",
    "    # Convolution - RELU 3rd Block, using 128 feature maps, size 5x5\n",
    "    model.add(Conv2D(128, kernel_size=(5, 5), activation='relu'))\n",
    "    model.add(BatchNormalization())\n",
    "    \n",
    "    # I tried using same kernel size with different number of feature maps but this is the combination with which I got the\n",
    "    # best results in limited amount of time\n",
    "\n",
    "    # Max Pooling layer with pooling matrix of size 2x2\n",
    "    model.add(MaxPooling2D(pool_size=(2, 2)))\n",
    "    model.add(Dropout(0.25))\n",
    "\n",
    "    # Flattening the vector to input it into the model\n",
    "    model.add(Flatten())\n",
    "\n",
    "# Classification layers    \n",
    "\n",
    "    # First hidden layer has 128 Neurons and it also represents the dimension of its output space\n",
    "    model.add(Dense(128, activation='relu'))\n",
    "    model.add(BatchNormalization())\n",
    "    model.add(Dropout(0.25))\n",
    "    \n",
    "    # Second hidden layer has 64 Neurons and it is the dimension of its output space.\n",
    "    # Most of the problems are solved using 1 to 2 hidden layers,there are very few situations \n",
    "    model.add(Dense(64, activation='relu'))\n",
    "    model.add(BatchNormalization())\n",
    "    model.add(Dropout(0.4))\n",
    "    \n",
    "    # This is the final layer in the model, it has num_classes number of neurons which is 10 in our case. Activation function \n",
    "    # used here is softmax as here it will classify the input into on of the 10 output classes\n",
    "    model.add(Dense(num_classes, activation='softmax'))\n",
    "    \n",
    "    # Loss function used is categorical_crossentropy as it is a multiclass-classification problem \n",
    "    model.compile(loss=keras.losses.categorical_crossentropy, optimizer=keras.optimizers.Adam(), metrics=['accuracy'])\n",
    "\n",
    "    return model\n"
   ]
  },
  {
   "cell_type": "code",
   "execution_count": 223,
   "metadata": {},
   "outputs": [],
   "source": [
    "model = cnn_model(input_shape, 10)"
   ]
  },
  {
   "cell_type": "code",
   "execution_count": 224,
   "metadata": {},
   "outputs": [
    {
     "name": "stdout",
     "output_type": "stream",
     "text": [
      "Train on 1280 samples, validate on 320 samples\n",
      "Epoch 1/20\n",
      "1280/1280 [==============================] - 8s 6ms/step - loss: 1.9049 - accuracy: 0.4289 - val_loss: 2.3149 - val_accuracy: 0.3344\n",
      "\n",
      "Epoch 00001: saving model to model.h5\n",
      "Epoch 2/20\n",
      "1280/1280 [==============================] - 5s 4ms/step - loss: 0.8508 - accuracy: 0.7414 - val_loss: 1.2647 - val_accuracy: 0.6250\n",
      "\n",
      "Epoch 00002: saving model to model.h5\n",
      "Epoch 3/20\n",
      "1280/1280 [==============================] - 6s 5ms/step - loss: 0.5036 - accuracy: 0.8578 - val_loss: 1.0322 - val_accuracy: 0.7250\n",
      "\n",
      "Epoch 00003: saving model to model.h5\n",
      "Epoch 4/20\n",
      "1280/1280 [==============================] - 6s 4ms/step - loss: 0.3798 - accuracy: 0.8977 - val_loss: 0.9718 - val_accuracy: 0.7500\n",
      "\n",
      "Epoch 00004: saving model to model.h5\n",
      "Epoch 5/20\n",
      "1280/1280 [==============================] - 6s 4ms/step - loss: 0.3232 - accuracy: 0.9195 - val_loss: 0.7943 - val_accuracy: 0.8188\n",
      "\n",
      "Epoch 00005: saving model to model.h5\n",
      "Epoch 6/20\n",
      "1280/1280 [==============================] - 6s 5ms/step - loss: 0.2584 - accuracy: 0.9352 - val_loss: 0.6995 - val_accuracy: 0.8313\n",
      "\n",
      "Epoch 00006: saving model to model.h5\n",
      "Epoch 7/20\n",
      "1280/1280 [==============================] - 6s 5ms/step - loss: 0.1905 - accuracy: 0.9578 - val_loss: 0.5408 - val_accuracy: 0.9125\n",
      "\n",
      "Epoch 00007: saving model to model.h5\n",
      "Epoch 8/20\n",
      "1280/1280 [==============================] - 7s 6ms/step - loss: 0.1523 - accuracy: 0.9648 - val_loss: 0.7462 - val_accuracy: 0.8250\n",
      "\n",
      "Epoch 00008: saving model to model.h5\n",
      "Epoch 9/20\n",
      "1280/1280 [==============================] - 6s 5ms/step - loss: 0.1131 - accuracy: 0.9766 - val_loss: 0.7134 - val_accuracy: 0.8188\n",
      "\n",
      "Epoch 00009: saving model to model.h5\n",
      "Epoch 10/20\n",
      "1280/1280 [==============================] - 6s 4ms/step - loss: 0.1048 - accuracy: 0.9820 - val_loss: 0.5571 - val_accuracy: 0.8969\n",
      "\n",
      "Epoch 00010: saving model to model.h5\n",
      "Epoch 11/20\n",
      "1280/1280 [==============================] - 6s 5ms/step - loss: 0.0734 - accuracy: 0.9883 - val_loss: 0.3949 - val_accuracy: 0.9125\n",
      "\n",
      "Epoch 00011: saving model to model.h5\n",
      "Epoch 12/20\n",
      "1280/1280 [==============================] - 6s 5ms/step - loss: 0.0701 - accuracy: 0.9867 - val_loss: 0.3335 - val_accuracy: 0.9344\n",
      "\n",
      "Epoch 00012: saving model to model.h5\n",
      "Epoch 13/20\n",
      "1280/1280 [==============================] - 6s 5ms/step - loss: 0.0716 - accuracy: 0.9859 - val_loss: 0.3998 - val_accuracy: 0.9094\n",
      "\n",
      "Epoch 00013: saving model to model.h5\n",
      "Epoch 14/20\n",
      "1280/1280 [==============================] - 6s 5ms/step - loss: 0.0563 - accuracy: 0.9937 - val_loss: 0.3706 - val_accuracy: 0.9312\n",
      "\n",
      "Epoch 00014: saving model to model.h5\n",
      "Epoch 15/20\n",
      "1280/1280 [==============================] - 6s 5ms/step - loss: 0.0488 - accuracy: 0.9945 - val_loss: 0.2129 - val_accuracy: 0.9438\n",
      "\n",
      "Epoch 00015: saving model to model.h5\n",
      "Epoch 16/20\n",
      "1280/1280 [==============================] - 6s 5ms/step - loss: 0.0496 - accuracy: 0.9922 - val_loss: 0.1640 - val_accuracy: 0.9469\n",
      "\n",
      "Epoch 00016: saving model to model.h5\n",
      "Epoch 17/20\n",
      "1280/1280 [==============================] - 6s 5ms/step - loss: 0.0421 - accuracy: 0.9937 - val_loss: 0.1671 - val_accuracy: 0.9500\n",
      "\n",
      "Epoch 00017: saving model to model.h5\n",
      "Epoch 18/20\n",
      "1280/1280 [==============================] - 6s 5ms/step - loss: 0.0403 - accuracy: 0.9945 - val_loss: 0.1584 - val_accuracy: 0.9594\n",
      "\n",
      "Epoch 00018: saving model to model.h5\n",
      "Epoch 19/20\n",
      "1280/1280 [==============================] - 7s 5ms/step - loss: 0.0388 - accuracy: 0.9969 - val_loss: 0.1462 - val_accuracy: 0.9719\n",
      "\n",
      "Epoch 00019: saving model to model.h5\n",
      "Epoch 20/20\n",
      "1280/1280 [==============================] - 6s 5ms/step - loss: 0.0293 - accuracy: 0.9961 - val_loss: 0.3311 - val_accuracy: 0.9000\n",
      "\n",
      "Epoch 00020: saving model to model.h5\n"
     ]
    }
   ],
   "source": [
    "\n",
    "es = EarlyStopping(monitor='val_loss', mode='min', verbose=1,  patience=7) \n",
    "mc = ModelCheckpoint('model.h5', monitor='val_acc', verbose=1,save_best_only=False,mode='max')\n",
    "\n",
    "history= model.fit(X_tr, y_tr ,epochs=20, callbacks=[es,mc], batch_size=64,verbose=1, validation_split=0.2)"
   ]
  },
  {
   "cell_type": "code",
   "execution_count": 225,
   "metadata": {},
   "outputs": [
    {
     "name": "stdout",
     "output_type": "stream",
     "text": [
      "              precision    recall  f1-score   support\n",
      "\n",
      "           0       0.00      0.00      0.00        50\n",
      "           1       0.27      0.16      0.20        50\n",
      "           2       0.72      0.36      0.48        50\n",
      "           3       0.25      0.02      0.04        50\n",
      "           4       0.00      0.00      0.00        50\n",
      "           5       0.31      0.86      0.46        50\n",
      "           6       0.10      0.32      0.15        50\n",
      "           7       1.00      0.02      0.04        50\n",
      "           8       0.35      0.88      0.51        50\n",
      "           9       0.25      0.08      0.12        50\n",
      "\n",
      "   micro avg       0.27      0.27      0.27       500\n",
      "   macro avg       0.33      0.27      0.20       500\n",
      "weighted avg       0.33      0.27      0.20       500\n",
      " samples avg       0.27      0.27      0.27       500\n",
      "\n"
     ]
    }
   ],
   "source": [
    "def predict(X, y):\n",
    "    # Loading the saved model\n",
    "    trained_model = keras.models.load_model('model.h5')\n",
    "    # Making the predictions\n",
    "    predictions = trained_model.predict_classes(X)\n",
    "    \n",
    "    print(classification_report(y, to_categorical(predictions)))\n",
    "\n",
    "# Predicting the Test dataset and printing the classification report\n",
    "predict(X_ts,y_ts)"
   ]
  },
  {
   "cell_type": "code",
   "execution_count": 226,
   "metadata": {},
   "outputs": [
    {
     "name": "stdout",
     "output_type": "stream",
     "text": [
      "500/500 [==============================] - 1s 1ms/step\n"
     ]
    },
    {
     "data": {
      "text/plain": [
       "[2.721542236328125, 0.27000001072883606]"
      ]
     },
     "execution_count": 226,
     "metadata": {},
     "output_type": "execute_result"
    }
   ],
   "source": [
    "model.evaluate(X_ts,y_ts)"
   ]
  },
  {
   "cell_type": "code",
   "execution_count": 227,
   "metadata": {},
   "outputs": [],
   "source": [
    "def predict_user_input(x):\n",
    "    #x = x[::3]\n",
    "    mfcc_comp = getmfcc(x)\n",
    "    #mfcc_comp = numpy.asfortranarray(mfcc_comp)\n",
    "    #pad_width = 20 - mfcc_comp.shape[1]\n",
    "    #mfcc_comp = np.pad(mfcc_comp, pad_width=((0, 0), (0, pad_width)), mode='constant')\n",
    "    recording = np.asarray(mfcc_comp)\n",
    "    recording = recording.reshape((1, mfcc_comp.shape[0],mfcc_comp.shape[1], 1))\n",
    "    trained_model = keras.models.load_model('model.h5')\n",
    "    predictions = trained_model.predict_classes(recording)\n",
    "    print('Model Prediction: {}'.format(predictions[0]))"
   ]
  },
  {
   "cell_type": "code",
   "execution_count": 269,
   "metadata": {},
   "outputs": [
    {
     "name": "stdout",
     "output_type": "stream",
     "text": [
      "begin\n",
      "end\n"
     ]
    }
   ],
   "source": [
    "samplerate = 8000  \n",
    "duration = 2\n",
    "filename = 'rec.wav'\n",
    "print(\"begin\")\n",
    "mydata = sd.rec(int(samplerate * duration), samplerate=samplerate, channels=1, blocking=True)\n",
    "print(\"end\")\n",
    "sd.wait()\n",
    "sf.write(filename, mydata, samplerate)"
   ]
  },
  {
   "cell_type": "code",
   "execution_count": 270,
   "metadata": {},
   "outputs": [
    {
     "data": {
      "text/html": [
       "\n",
       "                <audio  controls=\"controls\" >\n",
       "                    <source src=\"data:audio/wav;base64,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\" type=\"audio/wav\" />\n",
       "                    Your browser does not support the audio element.\n",
       "                </audio>\n",
       "              "
      ],
      "text/plain": [
       "<IPython.lib.display.Audio object>"
      ]
     },
     "execution_count": 270,
     "metadata": {},
     "output_type": "execute_result"
    }
   ],
   "source": [
    "x, sr = librosa.load('rec.wav', mono=True, sr=None)\n",
    "s = librosa.resample(x, sr, 8000)\n",
    "mask = envelope(s, sr, 0.001)\n",
    "s = s[mask]\n",
    "ipd.Audio(s,rate=8000)"
   ]
  },
  {
   "cell_type": "code",
   "execution_count": 271,
   "metadata": {},
   "outputs": [
    {
     "name": "stdout",
     "output_type": "stream",
     "text": [
      "Model Prediction: 9\n"
     ]
    }
   ],
   "source": [
    "predict_user_input(s)"
   ]
  },
  {
   "cell_type": "code",
   "execution_count": 196,
   "metadata": {},
   "outputs": [
    {
     "name": "stdout",
     "output_type": "stream",
     "text": [
      "9_rach_10\n",
      "begin\n",
      "end\n"
     ]
    },
    {
     "data": {
      "text/html": [
       "\n",
       "                <audio  controls=\"controls\" >\n",
       "                    <source src=\"data:audio/wav;base64,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\" type=\"audio/wav\" />\n",
       "                    Your browser does not support the audio element.\n",
       "                </audio>\n",
       "              "
      ],
      "text/plain": [
       "<IPython.lib.display.Audio object>"
      ]
     },
     "execution_count": 196,
     "metadata": {},
     "output_type": "execute_result"
    }
   ],
   "source": [
    "# record audio\n",
    "i = input()\n",
    "samplerate = 8000  \n",
    "duration = 2\n",
    "filename = i+'.wav'\n",
    "print(\"begin\")\n",
    "mydata = sd.rec(int(samplerate * duration), samplerate=samplerate, channels=1, blocking=True)\n",
    "print(\"end\")\n",
    "sd.wait()\n",
    "sf.write(filename, mydata, samplerate)\n",
    "x, sr = librosa.load(filename, mono=True, sr=None)\n",
    "s = librosa.resample(x, sr, 8000)\n",
    "mask = envelope(s, sr, 0.001)\n",
    "s = s[mask]\n",
    "ipd.Audio(s,rate=8000)"
   ]
  },
  {
   "cell_type": "code",
   "execution_count": null,
   "metadata": {},
   "outputs": [],
   "source": []
  },
  {
   "cell_type": "code",
   "execution_count": null,
   "metadata": {},
   "outputs": [],
   "source": []
  }
 ],
 "metadata": {
  "kernelspec": {
   "display_name": "Python 3",
   "language": "python",
   "name": "python3"
  },
  "language_info": {
   "codemirror_mode": {
    "name": "ipython",
    "version": 3
   },
   "file_extension": ".py",
   "mimetype": "text/x-python",
   "name": "python",
   "nbconvert_exporter": "python",
   "pygments_lexer": "ipython3",
   "version": "3.7.4"
  }
 },
 "nbformat": 4,
 "nbformat_minor": 2
}
